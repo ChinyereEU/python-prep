{
 "cells": [
  {
   "cell_type": "markdown",
   "id": "1cc0501a",
   "metadata": {},
   "source": [
    "# Basic `numpy`\n",
    "\n",
    "In this notebook we will learn about the python package `numpy`.\n",
    "\n",
    "By the end of this notebook you will know about:\n",
    "- Checking the version of a python package,\n",
    "- `numpy` `ndarray`s,\n",
    "- `ndarray` functions,\n",
    "- `numpy` functions,\n",
    "- Pseudorandom numbers in `numpy` and\n",
    "- Linear algebra in `numpy`."
   ]
  },
  {
   "cell_type": "markdown",
   "id": "443bdb03",
   "metadata": {},
   "source": [
    "## `numpy`\n",
    "\n",
    "`numpy` is a python package that is a real workhorse of machine learning and data science.\n",
    "\n",
    "If you are new to python, this will be the first true package you will import. That being said we should check that you have the package installed, try to run the following code chunk. (Note if you installed the Anaconda platform, <a href=\"https://www.anaconda.com/\">https://www.anaconda.com/</a>, `numpy` should be installed already)."
   ]
  },
  {
   "cell_type": "code",
   "execution_count": 4,
   "id": "bbdf9bf8",
   "metadata": {},
   "outputs": [],
   "source": [
    "## it is standard to import numpy as np\n",
    "import numpy as np"
   ]
  },
  {
   "cell_type": "code",
   "execution_count": 8,
   "id": "39e8188a",
   "metadata": {},
   "outputs": [
    {
     "name": "stdout",
     "output_type": "stream",
     "text": [
      "1.26.4\n"
     ]
    }
   ],
   "source": [
    "## let's check what version of numpy you have\n",
    "## when I wrote this I had version 1.24.2\n",
    "## yours may be different\n",
    "print(np.__version__)"
   ]
  },
  {
   "cell_type": "markdown",
   "id": "f7bd8780",
   "metadata": {},
   "source": [
    "If you had a version of `numpy` installed, both of those code chunks should have run without error. If not, you will need to install it onto your machine because we will be using it heavily in the boot camp. For installation instructions check out the `numpy` documentation here, <a href=\"https://numpy.org/install/\">https://numpy.org/install/</a>. If you are unsure how to install a python package in general check our python package installation guide, <a href=\"https://www.erdosinstitute.org/data-science\">https://www.erdosinstitute.org/data-science</a>.\n",
    "\n",
    "\n",
    "##### Be sure you can run both of the above code chunks before continuing with this notebook, again it should be fine if your package version is slightly different than mine."
   ]
  },
  {
   "cell_type": "markdown",
   "id": "10208b8d",
   "metadata": {},
   "source": [
    "### `numpy`'s `ndarray`\n",
    "\n",
    "While base python likes to store data in objects like `list`s and `tuple`s, in `numpy` data is stored in an `ndarray` it is similar to a list, but has a number of features that make it more useful for numeric data manipulation in a number of data science applications.\n",
    "\n",
    "<a href=\"https://numpy.org/doc/stable/reference/generated/numpy.ndarray.html\">https://numpy.org/doc/stable/reference/generated/numpy.ndarray.html</a>."
   ]
  },
  {
   "cell_type": "code",
   "execution_count": 14,
   "id": "9471319d",
   "metadata": {},
   "outputs": [
    {
     "name": "stdout",
     "output_type": "stream",
     "text": [
      "[1 2 3]\n",
      "\n",
      "<class 'numpy.ndarray'>\n"
     ]
    }
   ],
   "source": [
    "## You can make an array with np.array\n",
    "## You just put np.array() around a python list or tuple\n",
    "array1 = np.array([1,2,3])\n",
    "print(array1)\n",
    "print()\n",
    "print(type(array1))"
   ]
  },
  {
   "cell_type": "markdown",
   "id": "52c085ff",
   "metadata": {},
   "source": [
    "`numpy` `ndarray`s can have any finite number of dimensions. This can be constructed by wrapping `np.array` around a `list` of `list`s."
   ]
  },
  {
   "cell_type": "code",
   "execution_count": 27,
   "id": "7fa372d4",
   "metadata": {},
   "outputs": [
    {
     "name": "stdout",
     "output_type": "stream",
     "text": [
      "[[1 2 3]\n",
      " [4 5 6]]\n",
      "\n",
      "array2 is a (2, 3) ndarray\n"
     ]
    }
   ],
   "source": [
    "## this produces a 2-dimensional array\n",
    "## it is a 2x2 array\n",
    "array2 = np.array([[1,2,3], [4,5,6]])\n",
    "print(array2)\n",
    "print()\n",
    "\n",
    "## we can check the array's dimensions with np.shape()\n",
    "## np.shape() returns a tuple with the size of each dimension\n",
    "## array2 should be a 2 by 2 array\n",
    "print(\"array2 is a\", np.shape(array2), \"ndarray\")"
   ]
  },
  {
   "cell_type": "code",
   "execution_count": 28,
   "id": "11769736",
   "metadata": {},
   "outputs": [
    {
     "data": {
      "text/plain": [
       "(2, 3)"
      ]
     },
     "execution_count": 28,
     "metadata": {},
     "output_type": "execute_result"
    }
   ],
   "source": [
    "array2.shape"
   ]
  },
  {
   "cell_type": "markdown",
   "id": "95773636",
   "metadata": {},
   "source": [
    "<i>Note: the dimensionality of an `ndarray` will be quite important in our boot camp because certain algorithms will not run if the `ndarray` is the wrong shape.</i>"
   ]
  },
  {
   "cell_type": "code",
   "execution_count": 32,
   "id": "d4716389",
   "metadata": {},
   "outputs": [
    {
     "name": "stdout",
     "output_type": "stream",
     "text": [
      "[[[ 1  2]\n",
      "  [ 4  5]]\n",
      "\n",
      " [[ 7  8]\n",
      "  [10 11]]]\n"
     ]
    },
    {
     "data": {
      "text/plain": [
       "(2, 2, 2)"
      ]
     },
     "execution_count": 32,
     "metadata": {},
     "output_type": "execute_result"
    }
   ],
   "source": [
    "## You code\n",
    "## Try making a 2x2x2 array\n",
    "##2x2x2 matrix: has 2 layers, each containing a 2x2 matrix\n",
    "array3 = np.array([[[1,2],[4,5]], [[7,8],[10,11]]])\n",
    "print(array3)\n",
    "array3.shape"
   ]
  },
  {
   "cell_type": "code",
   "execution_count": 36,
   "id": "bb1e8f35",
   "metadata": {},
   "outputs": [
    {
     "name": "stdout",
     "output_type": "stream",
     "text": [
      "[[[[ 1  2]\n",
      "   [ 3  4]]\n",
      "\n",
      "  [[ 5  6]\n",
      "   [ 7  8]]]\n",
      "\n",
      "\n",
      " [[[ 9 10]\n",
      "   [11 12]]\n",
      "\n",
      "  [[13 14]\n",
      "   [15 16]]]]\n"
     ]
    },
    {
     "data": {
      "text/plain": [
       "(2, 2, 2, 2)"
      ]
     },
     "execution_count": 36,
     "metadata": {},
     "output_type": "execute_result"
    }
   ],
   "source": [
    "## You code \n",
    "## Try making a 2x2x2x2 array\n",
    "##2x2x2x2 matrix: 4-d matrix has 2 blocks each containing 2 layers, each layer containing a 2x2 matrix\n",
    "array4 = np.array([[[[1,2],[3,4]], [[5,6],[7,8]]], [[[9,10],[11,12]], [[13,14],[15,16]]]])\n",
    "print(array4)\n",
    "array4.shape\n",
    "                  \n"
   ]
  },
  {
   "cell_type": "markdown",
   "id": "142af141",
   "metadata": {},
   "source": [
    "### `ndarray` Functions\n",
    "\n",
    "#### Vectorized Operations\n",
    "\n",
    "`ndarray`s are nice because, for the most part, they work the way you'd expect a vector or matrix to work. Let's compare and contrast with python's `list`s."
   ]
  },
  {
   "cell_type": "code",
   "execution_count": 44,
   "id": "59fa0666",
   "metadata": {},
   "outputs": [
    {
     "data": {
      "text/plain": [
       "[1, 2, 3, 1, 2, 3]"
      ]
     },
     "execution_count": 44,
     "metadata": {},
     "output_type": "execute_result"
    }
   ],
   "source": [
    "## You code\n",
    "## see what happens when you code up 2*list1\n",
    "list1 = [1,2,3]\n",
    "2*list1\n"
   ]
  },
  {
   "cell_type": "code",
   "execution_count": 38,
   "id": "a2563d7b",
   "metadata": {},
   "outputs": [
    {
     "data": {
      "text/plain": [
       "array([2, 4, 6])"
      ]
     },
     "execution_count": 38,
     "metadata": {},
     "output_type": "execute_result"
    }
   ],
   "source": [
    "## You code\n",
    "## Now compare it to 2*array1\n",
    "2*array1\n"
   ]
  },
  {
   "cell_type": "code",
   "execution_count": 45,
   "id": "24dfa6c1",
   "metadata": {},
   "outputs": [
    {
     "data": {
      "text/plain": [
       "[1, 2, 3, [1, 2, 3], [4, 5, 6]]"
      ]
     },
     "execution_count": 45,
     "metadata": {},
     "output_type": "execute_result"
    }
   ],
   "source": [
    "## what happens here?\n",
    "list2 = [[1,2,3], [4,5,6]]\n",
    "list1 + list2"
   ]
  },
  {
   "cell_type": "code",
   "execution_count": 40,
   "id": "80b661de",
   "metadata": {},
   "outputs": [
    {
     "data": {
      "text/plain": [
       "array([[2, 4, 6],\n",
       "       [5, 7, 9]])"
      ]
     },
     "execution_count": 40,
     "metadata": {},
     "output_type": "execute_result"
    }
   ],
   "source": [
    "## You code\n",
    "## code up the comparable ndarray expression\n",
    "## and see what happens\n",
    "array1+array2"
   ]
  },
  {
   "cell_type": "code",
   "execution_count": 48,
   "id": "ebc8e7eb",
   "metadata": {},
   "outputs": [
    {
     "ename": "TypeError",
     "evalue": "can only concatenate list (not \"int\") to list",
     "output_type": "error",
     "traceback": [
      "\u001b[1;31m---------------------------------------------------------------------------\u001b[0m",
      "\u001b[1;31mTypeError\u001b[0m                                 Traceback (most recent call last)",
      "Cell \u001b[1;32mIn[48], line 2\u001b[0m\n\u001b[0;32m      1\u001b[0m \u001b[38;5;66;03m## Finally what happens here?\u001b[39;00m\n\u001b[1;32m----> 2\u001b[0m list1 \u001b[38;5;241m+\u001b[39m \u001b[38;5;241m2\u001b[39m\n",
      "\u001b[1;31mTypeError\u001b[0m: can only concatenate list (not \"int\") to list"
     ]
    }
   ],
   "source": [
    "## Finally what happens here?\n",
    "list1 + 2"
   ]
  },
  {
   "cell_type": "code",
   "execution_count": 49,
   "id": "4a92941a",
   "metadata": {},
   "outputs": [
    {
     "data": {
      "text/plain": [
       "array([3, 4, 5])"
      ]
     },
     "execution_count": 49,
     "metadata": {},
     "output_type": "execute_result"
    }
   ],
   "source": [
    "## Try the comparable ndarray expression\n",
    "array1+2\n"
   ]
  },
  {
   "cell_type": "code",
   "execution_count": 50,
   "id": "8fde1bee",
   "metadata": {},
   "outputs": [
    {
     "data": {
      "text/plain": [
       "array([[1, 2],\n",
       "       [1, 2]])"
      ]
     },
     "execution_count": 50,
     "metadata": {},
     "output_type": "execute_result"
    }
   ],
   "source": [
    "A = np.array([[1,2], [1,2]])\n",
    "\n",
    "B = np.array([[1,1], [1,1]])\n",
    "\n",
    "\n",
    "A*B"
   ]
  },
  {
   "cell_type": "markdown",
   "id": "ff429ad8",
   "metadata": {},
   "source": [
    "### Preset `numpy` Arrays\n",
    "\n",
    "There are a number of standard array types that you will want to use, that can be quickly generated."
   ]
  },
  {
   "cell_type": "code",
   "execution_count": 61,
   "id": "64174fc6",
   "metadata": {},
   "outputs": [
    {
     "name": "stdout",
     "output_type": "stream",
     "text": [
      "[1.]\n",
      "\n",
      "[[1. 1. 1. 1. 1. 1. 1. 1. 1. 1.]\n",
      " [1. 1. 1. 1. 1. 1. 1. 1. 1. 1.]\n",
      " [1. 1. 1. 1. 1. 1. 1. 1. 1. 1.]\n",
      " [1. 1. 1. 1. 1. 1. 1. 1. 1. 1.]]\n",
      "\n",
      "[[[1. 1.]\n",
      "  [1. 1.]]\n",
      "\n",
      " [[1. 1.]\n",
      "  [1. 1.]]]\n",
      "\n",
      "[[[1. 1.]\n",
      "  [1. 1.]\n",
      "  [1. 1.]]\n",
      "\n",
      " [[1. 1.]\n",
      "  [1. 1.]\n",
      "  [1. 1.]]]\n"
     ]
    }
   ],
   "source": [
    "## np.ones(shape) makes an array of all ones of the desired shape\n",
    "\n",
    "#create a 1D array of ones with shape (1,)\n",
    "print(np.ones(1))\n",
    "\n",
    "print()\n",
    "\n",
    "#create a 2D array of ones with shape(4, 10)\n",
    "print(np.ones((4,10)))\n",
    "\n",
    "print()\n",
    "\n",
    "#create a 3D array of ones with shape(2,2,2)\n",
    "print(np.ones((2,2,2)))\n",
    "\n",
    "print()\n",
    "\n",
    "#create a 4D array of ones with shape (2, 3, 2)\n",
    "print(np.ones((2,3,2)))"
   ]
  },
  {
   "cell_type": "code",
   "execution_count": 60,
   "id": "cacbdfd8",
   "metadata": {},
   "outputs": [
    {
     "name": "stdout",
     "output_type": "stream",
     "text": [
      "[0. 0. 0. 0.]\n",
      "\n",
      "[[0. 0. 0. 0. 0.]\n",
      " [0. 0. 0. 0. 0.]\n",
      " [0. 0. 0. 0. 0.]\n",
      " [0. 0. 0. 0. 0.]]\n",
      "\n",
      "[[[0. 0. 0. 0.]]\n",
      "\n",
      " [[0. 0. 0. 0.]]\n",
      "\n",
      " [[0. 0. 0. 0.]]]\n"
     ]
    }
   ],
   "source": [
    "## You code\n",
    "## np.zeros(shape) is similar to np.ones, but instead of 1s\n",
    "## it makes an array of 0s\n",
    "## print 3 arrays of zeros, \n",
    "## one that is a single dimension of size 4\n",
    "print(np.zeros(4))\n",
    "print()\n",
    "\n",
    "## one that is 4x5\n",
    "print(np.zeros((4,5)))\n",
    "print()\n",
    "\n",
    "## one that is 3x1x4\n",
    "print(np.zeros((3,1,4)))"
   ]
  },
  {
   "cell_type": "code",
   "execution_count": 70,
   "id": "ba91450d",
   "metadata": {},
   "outputs": [
    {
     "name": "stdout",
     "output_type": "stream",
     "text": [
      "[[1. 0.]\n",
      " [0. 1.]]\n",
      "\n",
      "[[1. 0. 0. 0. 0. 0. 0. 0. 0.]\n",
      " [0. 1. 0. 0. 0. 0. 0. 0. 0.]\n",
      " [0. 0. 1. 0. 0. 0. 0. 0. 0.]\n",
      " [0. 0. 0. 1. 0. 0. 0. 0. 0.]\n",
      " [0. 0. 0. 0. 1. 0. 0. 0. 0.]\n",
      " [0. 0. 0. 0. 0. 1. 0. 0. 0.]]\n"
     ]
    }
   ],
   "source": [
    "## nxn identity matrix \n",
    "## np.eye(n): creates 2D array with ones on the diagonal and zeros elsewhere i.e. an identity matrix\n",
    "##creates a square matrix by default.\n",
    "##but you can specify the number of rows and columns if you want a non-square matrix\n",
    "\n",
    "## 2x2\n",
    "print(np.eye(2))\n",
    "print()\n",
    "\n",
    "##5x9\n",
    "print(np.eye(6,9))"
   ]
  },
  {
   "cell_type": "markdown",
   "id": "7bd1939b",
   "metadata": {},
   "source": [
    "### Built-In `numpy` Functions\n",
    "\n",
    "`numpy` also has a number of built-in functions that provide useful mathematical operations on arrays. Let's look at some examples."
   ]
  },
  {
   "cell_type": "code",
   "execution_count": 71,
   "id": "233a98e7",
   "metadata": {},
   "outputs": [
    {
     "data": {
      "text/plain": [
       "array([-2,  0,  2])"
      ]
     },
     "execution_count": 71,
     "metadata": {},
     "output_type": "execute_result"
    }
   ],
   "source": [
    "y = 2*np.array([1,2,3]) - 4\n",
    "y"
   ]
  },
  {
   "cell_type": "code",
   "execution_count": 72,
   "id": "ad7eead2",
   "metadata": {},
   "outputs": [
    {
     "data": {
      "text/plain": [
       "array([2, 0, 2])"
      ]
     },
     "execution_count": 72,
     "metadata": {},
     "output_type": "execute_result"
    }
   ],
   "source": [
    "## absolute value\n",
    "np.abs(y)"
   ]
  },
  {
   "cell_type": "code",
   "execution_count": 73,
   "id": "7af4efed",
   "metadata": {},
   "outputs": [
    {
     "data": {
      "text/plain": [
       "array([-8,  0,  8], dtype=int32)"
      ]
     },
     "execution_count": 73,
     "metadata": {},
     "output_type": "execute_result"
    }
   ],
   "source": [
    "## raising each entry to a power\n",
    "np.power(y, 3)"
   ]
  },
  {
   "cell_type": "code",
   "execution_count": 74,
   "id": "792803a6",
   "metadata": {},
   "outputs": [
    {
     "data": {
      "text/plain": [
       "array([1.41421356, 0.        , 1.41421356])"
      ]
     },
     "execution_count": 74,
     "metadata": {},
     "output_type": "execute_result"
    }
   ],
   "source": [
    "## the square root\n",
    "np.sqrt(np.abs(y))"
   ]
  },
  {
   "cell_type": "code",
   "execution_count": 82,
   "id": "c95cc65e",
   "metadata": {},
   "outputs": [
    {
     "name": "stdout",
     "output_type": "stream",
     "text": [
      "[  20.08553692   55.29129721  149.51177139  404.81508785 1098.24259634]\n",
      "1727.946289722884\n"
     ]
    }
   ],
   "source": [
    "## You code\n",
    "## using np.exp and np.log define y to be \n",
    "## e^(x+3) + log(|x|+1)\n",
    "## https://numpy.org/doc/stable/reference/generated/numpy.exp.html\n",
    "## https://numpy.org/doc/stable/reference/generated/numpy.log.html\n",
    "x = np.array([0,1,2,3,4])\n",
    "\n",
    "y = np.exp(x+3) + np.log(np.abs(x)+1)\n",
    "print(y)\n",
    "print(np.sum(y))"
   ]
  },
  {
   "cell_type": "code",
   "execution_count": 83,
   "id": "7869d535",
   "metadata": {},
   "outputs": [
    {
     "data": {
      "text/plain": [
       "1727.946289722884"
      ]
     },
     "execution_count": 83,
     "metadata": {},
     "output_type": "execute_result"
    }
   ],
   "source": [
    "## You can sum all of the entries of an array with\n",
    "## np.sum\n",
    "np.sum(y)"
   ]
  },
  {
   "cell_type": "markdown",
   "id": "e38b44df",
   "metadata": {},
   "source": [
    "### `numpy` for Pseudorandomness\n",
    "\n",
    "`numpy` is useful for generating pseudorandom numbers as well. We can look at common statistics of arrays too.\n",
    "\n",
    "The pseudorandom functionality is stored in the `random` subpackage of `numpy`. Documentation for `numpy.random` can be found here, <a href=\"https://numpy.org/doc/stable/reference/random/index.html\">https://numpy.org/doc/stable/reference/random/index.html</a>."
   ]
  },
  {
   "cell_type": "code",
   "execution_count": 84,
   "id": "76797101",
   "metadata": {},
   "outputs": [
    {
     "name": "stdout",
     "output_type": "stream",
     "text": [
      "0.4593188482663947\n",
      "\n",
      "A (10,2) uniform random array:\n",
      " [[0.47971736 0.57041693]\n",
      " [0.66651072 0.30425995]\n",
      " [0.24118343 0.24166037]\n",
      " [0.44937811 0.49686573]\n",
      " [0.91128726 0.46086712]\n",
      " [0.09272908 0.62471982]\n",
      " [0.87454521 0.76910601]\n",
      " [0.187414   0.23027744]\n",
      " [0.66936921 0.42254839]\n",
      " [0.15009788 0.08801316]]\n"
     ]
    }
   ],
   "source": [
    "## random generators are stored in np.random\n",
    "## a np.random.random() gives a number selected uniformly\n",
    "## at random from [0,1]\n",
    "## https://numpy.org/doc/stable/reference/random/generated/numpy.random.random.html\n",
    "print(np.random.random())\n",
    "\n",
    "\n",
    "print()\n",
    "\n",
    "## You can get a random array of any shape as well\n",
    "## just call np.random.random(tuple containing the shape)\n",
    "print(\"A (10,2) uniform random array:\\n\", np.random.random((10,2)))"
   ]
  },
  {
   "cell_type": "code",
   "execution_count": 89,
   "id": "ecde2fc6",
   "metadata": {},
   "outputs": [
    {
     "name": "stdout",
     "output_type": "stream",
     "text": [
      "-0.7741659992998796\n",
      "\n"
     ]
    },
    {
     "data": {
      "text/plain": [
       "array([[ 0.10792957,  1.40257646],\n",
       "       [ 0.38266008, -1.26176917],\n",
       "       [ 0.14020011,  1.44003409],\n",
       "       [-1.02225083,  0.48384547],\n",
       "       [ 0.19249561,  0.43302375],\n",
       "       [ 0.81709914, -0.27848354],\n",
       "       [-0.14809606, -0.0238306 ],\n",
       "       [ 0.9040872 , -1.35249405],\n",
       "       [ 0.72893289, -0.75861218],\n",
       "       [-0.4748727 ,  2.0726294 ]])"
      ]
     },
     "execution_count": 89,
     "metadata": {},
     "output_type": "execute_result"
    }
   ],
   "source": [
    "## Another Example\n",
    "## np.random.randn() is a normal(0,1) number\n",
    "## a single draw\n",
    "## https://numpy.org/doc/stable/reference/random/generated/numpy.random.randn.html\n",
    "print(np.random.randn())\n",
    "print()\n",
    "\n",
    "## an array of draws\n",
    "## note the slight difference here, we don't have to put\n",
    "## the 10 and 2 in a tuple to get a 10 by 2 array\n",
    "## numpy is slightly inconsistent in this area so always\n",
    "## check the docs to get it right\n",
    "np.random.randn(10,2)"
   ]
  },
  {
   "cell_type": "code",
   "execution_count": 90,
   "id": "641ae1db",
   "metadata": {},
   "outputs": [
    {
     "data": {
      "text/plain": [
       "array([[0, 3, 1, 1, 1, 0, 3, 1, 3, 3],\n",
       "       [1, 2, 2, 2, 3, 0, 1, 2, 2, 2],\n",
       "       [1, 1, 2, 0, 0, 1, 0, 2, 0, 0],\n",
       "       [0, 2, 1, 3, 3, 1, 1, 1, 2, 2],\n",
       "       [1, 2, 1, 0, 1, 1, 1, 0, 1, 1],\n",
       "       [2, 2, 2, 1, 0, 1, 1, 1, 3, 2],\n",
       "       [0, 2, 0, 0, 2, 2, 0, 1, 1, 1],\n",
       "       [0, 1, 0, 2, 1, 2, 3, 0, 3, 0],\n",
       "       [0, 1, 1, 1, 1, 1, 0, 1, 0, 0],\n",
       "       [0, 2, 2, 1, 0, 0, 1, 1, 1, 2]])"
      ]
     },
     "execution_count": 90,
     "metadata": {},
     "output_type": "execute_result"
    }
   ],
   "source": [
    "## A third example\n",
    "## np.random.binomial()\n",
    "## an array of binomial(n,p) outcomes\n",
    "## https://numpy.org/doc/stable/reference/random/generated/numpy.random.binomial.html\n",
    "np.random.binomial(n=4, p=.3, size=(10,10))"
   ]
  },
  {
   "cell_type": "markdown",
   "id": "0baa5eeb",
   "metadata": {},
   "source": [
    "##### Random Seeds\n",
    "\n",
    "You may have noticed that your randomly generated numbers are different from the ones in the pre-recorded lecture (if you are watching the lecture that is!). This is expected because they are random numbers. It would be quite the coincidence if two different runs came up with the exact same random draw (for the random distributions we have looked at above).\n",
    "\n",
    "If you want to ensure that you get the same random draw across runs you first need to set a random seed. In `numpy` this is done with `numpy.random.seed()`, <a href=\"https://numpy.org/doc/stable/reference/random/generated/numpy.random.seed.html\">https://numpy.org/doc/stable/reference/random/generated/numpy.random.seed.html</a>. Let's see it in action."
   ]
  },
  {
   "cell_type": "code",
   "execution_count": 93,
   "id": "517a417c",
   "metadata": {},
   "outputs": [
    {
     "data": {
      "text/plain": [
       "-0.3202545309014756"
      ]
     },
     "execution_count": 93,
     "metadata": {},
     "output_type": "execute_result"
    }
   ],
   "source": [
    "## Run this code chunk as many times as you'd like\n",
    "## it should always give the same number\n",
    "\n",
    "## to set a random seed you call np.random.seed(integer >= 0)\n",
    "## Note that your number can be any integer so long as it is non-negative\n",
    "np.random.seed(440)\n",
    "\n",
    "np.random.randn()"
   ]
  },
  {
   "cell_type": "code",
   "execution_count": 98,
   "id": "0eea3469",
   "metadata": {},
   "outputs": [],
   "source": [
    "## You code\n",
    "## make a 20 by 3 array of random normal draws\n",
    "## call it X\n",
    "X = np.random.randn(20,3)"
   ]
  },
  {
   "cell_type": "code",
   "execution_count": 99,
   "id": "771dbee9",
   "metadata": {},
   "outputs": [
    {
     "data": {
      "text/plain": [
       "array([[-0.56048418,  0.79234265,  1.07976237],\n",
       "       [-0.22087352,  0.95579254, -0.26935369],\n",
       "       [-1.36397881, -0.83510327, -0.76804149],\n",
       "       [-0.68626354, -0.73487578, -0.33815111],\n",
       "       [-0.78951707,  0.92598271, -1.46613572],\n",
       "       [ 0.66293515,  1.29636352, -0.28432912],\n",
       "       [ 0.36301286,  0.38155368, -0.72173903],\n",
       "       [-1.31823965, -0.18512465,  1.23776399],\n",
       "       [-0.03266876, -1.95682516, -0.80635672],\n",
       "       [ 1.35164788,  1.6942297 ,  0.79139951],\n",
       "       [ 1.57962097,  0.17422308,  0.03416933],\n",
       "       [-0.15814851,  1.23115255,  1.55785595],\n",
       "       [ 1.86346812, -1.5978289 , -1.6505322 ],\n",
       "       [ 0.40163803,  0.08646292,  1.03880402],\n",
       "       [ 1.04969556, -0.83342642, -0.89026772],\n",
       "       [-0.44862348, -0.49714705, -0.04846219],\n",
       "       [ 0.29147342,  0.10085124,  0.56850792],\n",
       "       [ 0.36747359, -0.04093048,  1.72869573],\n",
       "       [ 0.03189796,  0.09666818,  0.93979361],\n",
       "       [-1.03328864, -0.30579542, -0.07753364]])"
      ]
     },
     "execution_count": 99,
     "metadata": {},
     "output_type": "execute_result"
    }
   ],
   "source": [
    "X"
   ]
  },
  {
   "cell_type": "markdown",
   "id": "6bb2128d",
   "metadata": {},
   "source": [
    "Now that you have a data matrix, `X`. Let's compute some summary statistics about `X`."
   ]
  },
  {
   "cell_type": "code",
   "execution_count": 100,
   "id": "792d9bd3",
   "metadata": {},
   "outputs": [
    {
     "name": "stdout",
     "output_type": "stream",
     "text": [
      "The overall mean of X is 0.06258654741771968\n",
      "\n",
      "The column means of X are [0.06753887 0.03742828 0.08279249]\n",
      "\n",
      "The row means of X are [ 0.43720695  0.15518844 -0.98904119 -0.58643014 -0.44322336  0.55832319\n",
      "  0.00760917 -0.08853344 -0.93195021  1.27909236  0.59600446  0.87695333\n",
      " -0.461631    0.50896833 -0.22466619 -0.3314109   0.32027753  0.68507961\n",
      "  0.35611992 -0.4722059 ]\n",
      "\n"
     ]
    }
   ],
   "source": [
    "## You can get the mean of all the entries of X with np.mean\n",
    "## https://numpy.org/doc/stable/reference/generated/numpy.mean.html\n",
    "print(\"The overall mean of X is\", np.mean(X))\n",
    "print()\n",
    "\n",
    "## Adding in the argument \"axis = \" allows you to get\n",
    "## the mean of each column\n",
    "print(\"The column means of X are\", np.mean(X, axis=0))\n",
    "print()\n",
    "\n",
    "## and the mean of each row\n",
    "print(\"The row means of X are\", np.mean(X, axis=1))\n",
    "print()\n",
    "\n",
    "## the axis argument tells numpy the axis or axes along \n",
    "## which the means are computed.\n",
    "## so axis = 0 adds up the values in each row position\n",
    "## and divides by the number of rows\n",
    "\n",
    "## If you find this confusing, do not worry, I do too"
   ]
  },
  {
   "cell_type": "code",
   "execution_count": 101,
   "id": "9c76efeb",
   "metadata": {},
   "outputs": [
    {
     "name": "stdout",
     "output_type": "stream",
     "text": [
      "Row sums of X [1.35077739 0.74856565 1.65584981]\n",
      "\n",
      "\n",
      "Column sums of X [ 1.31162084  0.46556533 -2.96712357 -1.75929043 -1.32967007  1.67496956\n",
      "  0.02282751 -0.26560031 -2.79585063  3.83727709  1.78801338  2.63085998\n",
      " -1.38489299  1.52690498 -0.67399858 -0.99423271  0.96083258  2.05523884\n",
      "  1.06835975 -1.4166177 ]\n"
     ]
    }
   ],
   "source": [
    "## You code\n",
    "## np.sum also has an axis argument\n",
    "## https://numpy.org/doc/stable/reference/generated/numpy.sum.html\n",
    "## calculate the row sums and column sums of X\n",
    "print(\"Row sums of X\", np.sum(X, axis=0))\n",
    "\n",
    "print()\n",
    "print()\n",
    "\n",
    "print(\"Column sums of X\", np.sum(X, axis=1))\n",
    "\n",
    "\n"
   ]
  },
  {
   "cell_type": "code",
   "execution_count": 107,
   "id": "8631b02a",
   "metadata": {},
   "outputs": [
    {
     "name": "stdout",
     "output_type": "stream",
     "text": [
      "The max. values of each column of X occur at the [12  9 17] rows\n",
      "The max values in each column of X are [1.86346812 1.6942297  1.72869573]\n"
     ]
    }
   ],
   "source": [
    "## You code\n",
    "## where does the max value occur in each column of X?\n",
    "## https://numpy.org/doc/stable/reference/generated/numpy.argmax.html\n",
    "print(\"The max. values of each column of X occur at the\", np.argmax(X, axis=0) , \"rows\")\n",
    "\n",
    "\n",
    "## what is the max value in each column of X?\n",
    "## https://numpy.org/doc/stable/reference/generated/numpy.ndarray.max.html\n",
    "print(\"The max values in each column of X are\", np.max(X, axis=0))\n"
   ]
  },
  {
   "cell_type": "code",
   "execution_count": 109,
   "id": "f53c5ee8",
   "metadata": {},
   "outputs": [
    {
     "name": "stdout",
     "output_type": "stream",
     "text": [
      "[3 1 9 1 5 4 4 7 8 4]\n"
     ]
    },
    {
     "data": {
      "text/plain": [
       "array([ 3,  4, 13, 14, 19, 23, 27, 34, 42, 46])"
      ]
     },
     "execution_count": 109,
     "metadata": {},
     "output_type": "execute_result"
    }
   ],
   "source": [
    "## Another useful function is np.cumsum()\n",
    "## https://numpy.org/doc/stable/reference/generated/numpy.cumsum.html\n",
    "\n",
    "## randint generates a random integer between the\n",
    "## first two arguments, the third argument tells numpy\n",
    "## how many random draws to perform\n",
    "## https://numpy.org/doc/stable/reference/random/generated/numpy.random.randint.html\n",
    "x = np.random.randint(1,10,10)\n",
    "\n",
    "print(x)\n",
    "\n",
    "np.cumsum(x)\n",
    "\n",
    "## What do you think it does? - it adds up the elements of an array cumulatively\n",
    "##  and returns an array of the same shape with the cumulative sums"
   ]
  },
  {
   "cell_type": "markdown",
   "id": "7e4a43b7",
   "metadata": {},
   "source": [
    "### Linear Algebra with `numpy`\n",
    "\n",
    "A final important use for us is `numpy` as a way to perform linear algebra calculations.\n",
    "\n",
    "A bulk of data science algorithms use linear algebra, since we will dive into the math behind the scenes of these algorithms we will use `numpy`'s linear algebra capabilities.\n",
    "\n",
    "##### Note: If you're not a math heavy person, that's okay! I have written the boot camp's notebooks so that you don't need to understand the math to learn how to perform the algorithms we cover. I just like to cover the mathematical aspects of these data science algorithms to explain what is going on to those boot campers (like myself) that are interested in the mathematical/statistical underpinnings of the algorithms."
   ]
  },
  {
   "cell_type": "code",
   "execution_count": 110,
   "id": "8a187c25",
   "metadata": {},
   "outputs": [
    {
     "data": {
      "text/plain": [
       "array([[1, 3],\n",
       "       [3, 3]])"
      ]
     },
     "execution_count": 110,
     "metadata": {},
     "output_type": "execute_result"
    }
   ],
   "source": [
    "## We can think of a 2D array as a matrix\n",
    "A = np.random.binomial(n=10,p=.4,size=(2,2))\n",
    "\n",
    "A"
   ]
  },
  {
   "cell_type": "code",
   "execution_count": 111,
   "id": "d5a9caa6",
   "metadata": {},
   "outputs": [
    {
     "data": {
      "text/plain": [
       "(2,)"
      ]
     },
     "execution_count": 111,
     "metadata": {},
     "output_type": "execute_result"
    }
   ],
   "source": [
    "## A 1d array can be a row vector\n",
    "x = np.array([1,2])\n",
    "x.shape"
   ]
  },
  {
   "cell_type": "code",
   "execution_count": 112,
   "id": "2c499257",
   "metadata": {},
   "outputs": [
    {
     "data": {
      "text/plain": [
       "(2, 1)"
      ]
     },
     "execution_count": 112,
     "metadata": {},
     "output_type": "execute_result"
    }
   ],
   "source": [
    "## or a column vector\n",
    "## .reshape() will attempt to reshape your array into the given\n",
    "## shape\n",
    "## https://numpy.org/doc/stable/reference/generated/numpy.ndarray.reshape.html\n",
    "\n",
    "## When one of the shape dimensions is -1, the value is inferred from \n",
    "## the length of the array and remaining dimensions.\n",
    "## so -1,1 tells numpy that you want a 2-D array with 1 column\n",
    "## and it should infer the number of rows from the original shape\n",
    "## of the array\n",
    "## Here this reshapes x as a 2x1 column vector\n",
    "x.reshape(-1, 1).shape"
   ]
  },
  {
   "cell_type": "code",
   "execution_count": 113,
   "id": "ece2ce33",
   "metadata": {},
   "outputs": [
    {
     "data": {
      "text/plain": [
       "array([[7],\n",
       "       [9]])"
      ]
     },
     "execution_count": 113,
     "metadata": {},
     "output_type": "execute_result"
    }
   ],
   "source": [
    "## We can now calculate A*x\n",
    "## matrix.dot() is used for matrix mult\n",
    "A.dot(x.reshape(-1,1))"
   ]
  },
  {
   "cell_type": "code",
   "execution_count": 127,
   "id": "a1e26d3d",
   "metadata": {},
   "outputs": [
    {
     "name": "stdout",
     "output_type": "stream",
     "text": [
      "[[3 1 1]\n",
      " [2 4 4]\n",
      " [4 3 3]] x [[1.]\n",
      " [1.]\n",
      " [1.]] = [[ 5.]\n",
      " [10.]\n",
      " [10.]]\n"
     ]
    }
   ],
   "source": [
    "## You code\n",
    "## make a 3x1 column vector of ones, call it x\n",
    "x = np.ones((3,1))\n",
    "\n",
    "np.random.seed(576)\n",
    "## Take that vector and find B*x\n",
    "B = np.random.binomial(n=5, p=.6, size=(3,3))\n",
    "\n",
    "\n",
    "print(B, \"x\", x, \"=\", B.dot(x))\n",
    "\n",
    "## code here\n",
    "# B.dot(x)"
   ]
  },
  {
   "cell_type": "code",
   "execution_count": 128,
   "id": "3b4a1e9c",
   "metadata": {},
   "outputs": [],
   "source": [
    "## numpy.linalg contains a number of useful\n",
    "## matrix operations, let's import a few\n",
    "## note this is just for brevity in typing\n",
    "from numpy.linalg import inv, eig, det"
   ]
  },
  {
   "cell_type": "code",
   "execution_count": 129,
   "id": "d94f2c26",
   "metadata": {},
   "outputs": [
    {
     "data": {
      "text/plain": [
       "array([[1, 3],\n",
       "       [3, 3]])"
      ]
     },
     "execution_count": 129,
     "metadata": {},
     "output_type": "execute_result"
    }
   ],
   "source": [
    "## Recall our A\n",
    "A"
   ]
  },
  {
   "cell_type": "code",
   "execution_count": 130,
   "id": "a4978123",
   "metadata": {},
   "outputs": [
    {
     "data": {
      "text/plain": [
       "array([[-0.5       ,  0.5       ],\n",
       "       [ 0.5       , -0.16666667]])"
      ]
     },
     "execution_count": 130,
     "metadata": {},
     "output_type": "execute_result"
    }
   ],
   "source": [
    "## the inverse of A\n",
    "## Note you may get an error here if A is not\n",
    "## invertible\n",
    "inv(A)"
   ]
  },
  {
   "cell_type": "code",
   "execution_count": 131,
   "id": "fe83d45a",
   "metadata": {},
   "outputs": [
    {
     "data": {
      "text/plain": [
       "-6.0"
      ]
     },
     "execution_count": 131,
     "metadata": {},
     "output_type": "execute_result"
    }
   ],
   "source": [
    "## the determinant of A\n",
    "det(A)"
   ]
  },
  {
   "cell_type": "code",
   "execution_count": 132,
   "id": "510f2ba1",
   "metadata": {},
   "outputs": [
    {
     "data": {
      "text/plain": [
       "EigResult(eigenvalues=array([-1.16227766,  5.16227766]), eigenvectors=array([[-0.81124219, -0.58471028],\n",
       "       [ 0.58471028, -0.81124219]]))"
      ]
     },
     "execution_count": 132,
     "metadata": {},
     "output_type": "execute_result"
    }
   ],
   "source": [
    "## the eigenvalues and eigenvectors of A\n",
    "eig(A)\n",
    "\n",
    "## this returns a tuple of arrays\n",
    "## the first entry are the eigenvalues\n",
    "## the second entry are the corresponding eigenvectors"
   ]
  },
  {
   "cell_type": "code",
   "execution_count": 133,
   "id": "b23bc8a8",
   "metadata": {},
   "outputs": [
    {
     "data": {
      "text/plain": [
       "array([[1, 3],\n",
       "       [3, 3]])"
      ]
     },
     "execution_count": 133,
     "metadata": {},
     "output_type": "execute_result"
    }
   ],
   "source": [
    "## matrix.transpose() computes the transpose of the matrix\n",
    "A.transpose()"
   ]
  },
  {
   "cell_type": "code",
   "execution_count": 140,
   "id": "d3d5e832",
   "metadata": {},
   "outputs": [
    {
     "data": {
      "text/plain": [
       "array([[1.5       ],\n",
       "       [0.16666667]])"
      ]
     },
     "execution_count": 140,
     "metadata": {},
     "output_type": "execute_result"
    }
   ],
   "source": [
    "## You code\n",
    "b = np.array([2,5]).reshape(-1,1)\n",
    "\n",
    "## Attempt to solve Ax = b for x\n",
    "## Hint remember that if A is invertible, \n",
    "## x = A^{-1} b, where A^{-1} is the inverse of A\n",
    "inv(A).dot(b)"
   ]
  },
  {
   "cell_type": "markdown",
   "id": "1a38ee65",
   "metadata": {},
   "source": [
    "That's it for this notebook. You have now been introduced to `numpy` and our ready to take on the practice problems. Be sure to get a fair level of comfort with `numpy`'s functionality because we will be using it a lot."
   ]
  },
  {
   "cell_type": "markdown",
   "id": "5e35bfeb",
   "metadata": {},
   "source": [
    "--------------------------\n",
    "\n",
    "This notebook was written for the Erd&#337;s Institute C&#337;de Data Science Boot Camp by Matthew Osborne, Ph. D., 2023.\n",
    "\n",
    "Any potential redistributors must seek and receive permission from Matthew Tyler Osborne, Ph.D. prior to redistribution. Redistribution of the material contained in this repository is conditional on acknowledgement of Matthew Tyler Osborne, Ph.D.'s original authorship and sponsorship of the Erdős Institute as subject to the license (see License.md)"
   ]
  },
  {
   "cell_type": "code",
   "execution_count": null,
   "id": "a2ce880e",
   "metadata": {},
   "outputs": [],
   "source": []
  },
  {
   "cell_type": "code",
   "execution_count": null,
   "id": "8b7e68d2",
   "metadata": {},
   "outputs": [],
   "source": []
  }
 ],
 "metadata": {
  "kernelspec": {
   "display_name": "base",
   "language": "python",
   "name": "python3"
  },
  "language_info": {
   "codemirror_mode": {
    "name": "ipython",
    "version": 3
   },
   "file_extension": ".py",
   "mimetype": "text/x-python",
   "name": "python",
   "nbconvert_exporter": "python",
   "pygments_lexer": "ipython3",
   "version": "3.11.7"
  }
 },
 "nbformat": 4,
 "nbformat_minor": 5
}
